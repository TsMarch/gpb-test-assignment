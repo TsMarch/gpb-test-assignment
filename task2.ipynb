{
 "cells": [
  {
   "cell_type": "markdown",
   "metadata": {},
   "source": [
    " Задание 2\n",
    "# в наличии список множеств. внутри множества целые числа\n",
    "# посчитать:\n",
    "#  1. общее количество чисел\n",
    "#  2. общую сумму чисел\n",
    "#  3. посчитать среднее значение\n",
    "#  4. собрать все числа из множеств в один кортеж\n",
    "m = [{11, 3, 5}, {2, 17, 87, 32}, {4, 44}, {24, 11, 9, 7, 8}]\n",
    "*написать решения в одну строку"
   ]
  },
  {
   "cell_type": "code",
   "execution_count": 4,
   "metadata": {},
   "outputs": [
    {
     "name": "stdout",
     "output_type": "stream",
     "text": [
      "Пункт 1) 14\n",
      "Пункт 2) 264\n",
      "Пункт 3) 18.857142857142858\n",
      "Пункт 4) (11, 3, 5, 32, 17, 2, 87, 4, 44, 7, 8, 9, 11, 24)\n"
     ]
    }
   ],
   "source": [
    "import itertools\n",
    "\n",
    "m = [{11, 3, 5}, {2, 17, 87, 32}, {4, 44}, {24, 11, 9, 7, 8}]\n",
    "\n",
    "#1\n",
    "length = sum([len(i) for i in m])\n",
    "print(f\"Пункт 1) {length}\")\n",
    "\n",
    "#2\n",
    "total = sum(itertools.chain(*m))\n",
    "total = sum([i for i in m for i in i])\n",
    "print(f\"Пункт 2) {total}\")\n",
    "\n",
    "#3 \n",
    "avg = total / length\n",
    "print(f\"Пункт 3) {avg}\")\n",
    "\n",
    "\n",
    "#4\n",
    "tup = tuple([i for i in m for i in i])\n",
    "print(f\"Пункт 4) {tup}\")\n"
   ]
  },
  {
   "cell_type": "code",
   "execution_count": null,
   "metadata": {},
   "outputs": [],
   "source": []
  }
 ],
 "metadata": {
  "kernelspec": {
   "display_name": "Python 3",
   "language": "python",
   "name": "python3"
  },
  "language_info": {
   "codemirror_mode": {
    "name": "ipython",
    "version": 3
   },
   "file_extension": ".py",
   "mimetype": "text/x-python",
   "name": "python",
   "nbconvert_exporter": "python",
   "pygments_lexer": "ipython3",
   "version": "3.11.0"
  }
 },
 "nbformat": 4,
 "nbformat_minor": 2
}
