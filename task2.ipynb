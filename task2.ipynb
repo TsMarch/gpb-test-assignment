{
 "cells": [
  {
   "cell_type": "code",
   "execution_count": 62,
   "metadata": {},
   "outputs": [
    {
     "data": {
      "text/plain": [
       "(11, 3, 5, 32, 17, 2, 87, 4, 44, 7, 8, 9, 11, 24)"
      ]
     },
     "execution_count": 62,
     "metadata": {},
     "output_type": "execute_result"
    }
   ],
   "source": [
    "import itertools\n",
    "m = [{11, 3, 5}, {2, 17, 87, 32}, {4, 44}, {24, 11, 9, 7, 8}]\n",
    "\n",
    "#1\n",
    "length = sum([len(i) for i in m])\n",
    "\n",
    "#2\n",
    "total = sum(itertools.chain(*m))\n",
    "\n",
    "#3 \n",
    "avg = total / length\n",
    "avg\n",
    "\n",
    "#4\n",
    "tup = tuple([i for i in m for i in i])\n",
    "tup"
   ]
  },
  {
   "cell_type": "code",
   "execution_count": null,
   "metadata": {},
   "outputs": [],
   "source": [
    "a = [{f\"k{a}\": a for a in itertools.chain(*a)}]"
   ]
  }
 ],
 "metadata": {
  "kernelspec": {
   "display_name": "Python 3",
   "language": "python",
   "name": "python3"
  },
  "language_info": {
   "codemirror_mode": {
    "name": "ipython",
    "version": 3
   },
   "file_extension": ".py",
   "mimetype": "text/x-python",
   "name": "python",
   "nbconvert_exporter": "python",
   "pygments_lexer": "ipython3",
   "version": "3.11.0"
  }
 },
 "nbformat": 4,
 "nbformat_minor": 2
}
