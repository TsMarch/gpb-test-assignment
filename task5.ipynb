{
 "cells": [
  {
   "cell_type": "code",
   "execution_count": 156,
   "metadata": {},
   "outputs": [
    {
     "name": "stdout",
     "output_type": "stream",
     "text": [
      "баласты\n",
      "баластык\n",
      "баластыковка\n"
     ]
    }
   ],
   "source": [
    "a = ['ласты', 'стык', 'стыковка', 'баласт', 'кабала', 'карась']\n",
    "b = \"баласт\"\n",
    "s = ''\n",
    "step = 0\n",
    "for i in a:\n",
    "     l = len(i)\n",
    "     z = ''\n",
    "     w = ''\n",
    "     step = 0\n",
    "     if i == b:\n",
    "          continue\n",
    "     while step < l:\n",
    "         z = b[-step:]\n",
    "         w = i[:step]\n",
    "         match z == w:\n",
    "              case True:\n",
    "                   s += f'{b}{i[step:]}'\n",
    "                   print(f'{b}{i[step:]}')\n",
    "                   step = 0\n",
    "                   break\n",
    "              case False:\n",
    "                   step += 1"
   ]
  }
 ],
 "metadata": {
  "language_info": {
   "name": "python"
  }
 },
 "nbformat": 4,
 "nbformat_minor": 2
}
