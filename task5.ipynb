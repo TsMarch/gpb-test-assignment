{
 "cells": [
  {
   "cell_type": "code",
   "execution_count": 33,
   "metadata": {},
   "outputs": [
    {
     "name": "stdout",
     "output_type": "stream",
     "text": [
      "кабаласты\n",
      "кабаласт\n"
     ]
    }
   ],
   "source": [
    "inp_word = input()\n",
    "words_lst = []\n",
    "\n",
    "with open('words.txt', 'r', encoding='utf-8') as file:\n",
    "    for line in file: # итерируемся по словам в файле\n",
    "        word = line.rstrip()\n",
    "        step = 1 # создаем шаг для двухстороннего слайсинга\n",
    "        if word == inp_word: # если слово пользователя и слово из файла равны - скипаем\n",
    "            continue\n",
    "        while step < len(word): # суть алгоритма в поиске одинаковых символов у слов для сцепки\n",
    "            inp_word_slice = inp_word[-step:] # у введенного слова отрезаем с последнего символа  \n",
    "            word_slice = word[:step] # у итерируемого слова из файла отрезаем с первого символа\n",
    "            match inp_word_slice == word_slice: # сравниваем отрезанные символы\n",
    "                case True: # если символы одинаковые то печатаем наше слово и добавляем к нему отрезок оставшихся символов из файла\n",
    "                    print(f\"{inp_word}{word[step:]}\")\n",
    "                    words_lst.append(f\"{inp_word}{word[step:]}\")\n",
    "                    break # выходим из внутреннего цикла while и переходим к следующему слову\n",
    "                case False: # прибавляем шаг если символы не равны\n",
    "                    step += 1 \n"
   ]
  },
  {
   "cell_type": "code",
   "execution_count": null,
   "metadata": {},
   "outputs": [],
   "source": []
  }
 ],
 "metadata": {
  "kernelspec": {
   "display_name": "Python 3",
   "language": "python",
   "name": "python3"
  },
  "language_info": {
   "codemirror_mode": {
    "name": "ipython",
    "version": 3
   },
   "file_extension": ".py",
   "mimetype": "text/x-python",
   "name": "python",
   "nbconvert_exporter": "python",
   "pygments_lexer": "ipython3",
   "version": "3.11.0"
  }
 },
 "nbformat": 4,
 "nbformat_minor": 2
}
