{
 "cells": [
  {
   "cell_type": "code",
   "execution_count": 46,
   "metadata": {},
   "outputs": [],
   "source": [
    "import time\n",
    "import os\n",
    "import datetime"
   ]
  },
  {
   "cell_type": "code",
   "execution_count": 74,
   "metadata": {},
   "outputs": [
    {
     "data": {
      "text/plain": [
       "['S:\\\\CODE\\\\Python\\\\gazprom\\\\1 — копия (2).txt',\n",
       " 'S:\\\\CODE\\\\Python\\\\gazprom\\\\1 — копия (3).txt',\n",
       " 'S:\\\\CODE\\\\Python\\\\gazprom\\\\1 — копия.txt',\n",
       " 'S:\\\\CODE\\\\Python\\\\gazprom\\\\1.txt',\n",
       " 'S:\\\\CODE\\\\Python\\\\gazprom\\\\task4.ipynb',\n",
       " 'S:\\\\CODE\\\\Python\\\\gazprom\\\\Text Document.txt']"
      ]
     },
     "execution_count": 74,
     "metadata": {},
     "output_type": "execute_result"
    }
   ],
   "source": [
    "folder = 'S:\\CODE\\Python\\gazprom'\n",
    "\n",
    "#os.chdir(os.path.join(os.getcwd())) \n",
    "files = os.listdir() \n",
    "#list_of_files\n",
    "files = [os.path.join(folder, file) for file in files]\n",
    "files = [file for file in files if os.path.isfile(file)]\n",
    "files"
   ]
  },
  {
   "cell_type": "code",
   "execution_count": null,
   "metadata": {},
   "outputs": [],
   "source": [
    "\n",
    "current_time = time.time() \n",
    "  \n",
    "\n",
    "days = 24 * 60 * 60\n",
    "current_time = time.time() \n",
    "for file in files: \n",
    "    file_location = os.path.join(os.getcwd(), file) \n",
    "    file_time = os.stat(file_location).st_mtime\n",
    "    match (file_time < current_time - days * 5):\n",
    "        case True:\n",
    "            print(f\"Файл {file} удален\")\n",
    "            os.remove(file_location)\n",
    "\n"
   ]
  },
  {
   "cell_type": "code",
   "execution_count": null,
   "metadata": {},
   "outputs": [],
   "source": []
  }
 ],
 "metadata": {
  "kernelspec": {
   "display_name": "Python 3",
   "language": "python",
   "name": "python3"
  },
  "language_info": {
   "codemirror_mode": {
    "name": "ipython",
    "version": 3
   },
   "file_extension": ".py",
   "mimetype": "text/x-python",
   "name": "python",
   "nbconvert_exporter": "python",
   "pygments_lexer": "ipython3",
   "version": "3.11.1"
  }
 },
 "nbformat": 4,
 "nbformat_minor": 2
}
