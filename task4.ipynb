{
 "cells": [
  {
   "cell_type": "code",
   "execution_count": 31,
   "metadata": {},
   "outputs": [],
   "source": [
    "import time\n",
    "import os\n",
    "import datetime"
   ]
  },
  {
   "cell_type": "code",
   "execution_count": 39,
   "metadata": {},
   "outputs": [
    {
     "name": "stdout",
     "output_type": "stream",
     "text": [
      "Файлы в папке до удаления:\n",
      "/Users/aleksejzuravlev/Documents/CODE/Gazprom/melanoma-prediction.ipynb\n",
      "/Users/aleksejzuravlev/Documents/CODE/Gazprom/.DS_Store\n",
      "/Users/aleksejzuravlev/Documents/CODE/Gazprom/task3.ipynb\n",
      "/Users/aleksejzuravlev/Documents/CODE/Gazprom/task4.ipynb\n",
      "/Users/aleksejzuravlev/Documents/CODE/Gazprom/task2.ipynb\n",
      "/Users/aleksejzuravlev/Documents/CODE/Gazprom/response_1701099851774.json\n"
     ]
    }
   ],
   "source": [
    "folder = '/Users/aleksejzuravlev/Documents/CODE/Gazprom'\n",
    "\n",
    "files = os.listdir(folder)\n",
    "\n",
    "# собираю список из файлов в папке. отмечу, что по условию необходимо удалять только файлы, соответственно папки не войдут в список  \n",
    "files = [os.path.join(folder, file) for file in files if os.path.isfile(file)]\n",
    "print(\"Файлы в папке до удаления:\", *files, sep = '\\n')"
   ]
  },
  {
   "cell_type": "code",
   "execution_count": 40,
   "metadata": {},
   "outputs": [
    {
     "name": "stdout",
     "output_type": "stream",
     "text": [
      "Файл /Users/aleksejzuravlev/Documents/CODE/Gazprom/melanoma-prediction.ipynb удален, поскольку был создан 2023-02-18 16:40:38.234316\n",
      "Файл /Users/aleksejzuravlev/Documents/CODE/Gazprom/response_1701099851774.json удален, поскольку был создан 2023-11-28 13:34:04.258383\n",
      "\n",
      "\n",
      "Файлы в папке после удаления:\n",
      "/Users/aleksejzuravlev/Documents/CODE/Gazprom/.DS_Store\n",
      "/Users/aleksejzuravlev/Documents/CODE/Gazprom/task3.ipynb\n",
      "/Users/aleksejzuravlev/Documents/CODE/Gazprom/task4.ipynb\n",
      "/Users/aleksejzuravlev/Documents/CODE/Gazprom/task2.ipynb\n"
     ]
    }
   ],
   "source": [
    "\n",
    "current_time = time.time() \n",
    "  \n",
    "\n",
    "days = 24 * 3600 # посчитаем сколько секунд в одном дне\n",
    "current_time = time.time() \n",
    "n = current_time - (24 * 3600) * 30 # вычислим в формате unix эпохи момент во времени по которому будем удалять файлы\n",
    "\n",
    "# в цикле итерируемся по списку с нашими файлами, сохраняем путь до файла (для его удаления) \n",
    "# сохраняем время создания файла в формате unix эпохи\n",
    "# удаляем файл если время его создания меньше чем \"n\"\n",
    "for file in files: \n",
    "    file_location = os.path.join(os.getcwd(), file) \n",
    "    file_time = os.stat(file_location).st_mtime\n",
    "    match file_time < n:\n",
    "        case True:\n",
    "            # при удалении файла вывожу помимо его названия также дату его создания для наглядности\n",
    "            print(f\"Файл {file} удален, поскольку был создан {datetime.datetime.fromtimestamp(file_time)}\")\n",
    "            os.remove(file_location)\n",
    "\n",
    "# по новой собираю список с файлами в директории дабы убедиться что файлы действительно удалились\n",
    "print('\\n', \"Файлы в папке после удаления:\", *[file for file in files if os.path.isfile(file)], sep = '\\n')"
   ]
  }
 ],
 "metadata": {
  "kernelspec": {
   "display_name": "Python 3",
   "language": "python",
   "name": "python3"
  },
  "language_info": {
   "codemirror_mode": {
    "name": "ipython",
    "version": 3
   },
   "file_extension": ".py",
   "mimetype": "text/x-python",
   "name": "python",
   "nbconvert_exporter": "python",
   "pygments_lexer": "ipython3",
   "version": "3.11.0"
  }
 },
 "nbformat": 4,
 "nbformat_minor": 2
}
