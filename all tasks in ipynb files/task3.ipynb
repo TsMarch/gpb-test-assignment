{
 "cells": [
  {
   "cell_type": "markdown",
   "metadata": {},
   "source": [
    "# Задание 3\n",
    "# имеется список списков\n",
    "# a = [[1,2,3], [4,5,6]]\n",
    "# сделать список словарей\n",
    "# b = [{'k1': 1, 'k2': 2, 'k3': 3}, {'k1': 4, 'k2': 5, 'k3': 6}]\n",
    "# *написать решение в одну строку"
   ]
  },
  {
   "cell_type": "code",
   "execution_count": 3,
   "metadata": {},
   "outputs": [
    {
     "name": "stdout",
     "output_type": "stream",
     "text": [
      "[{'k1': 1, 'k2': 2, 'k3': 3}, {'k4': 4, 'k5': 5, 'k6': 6}]\n"
     ]
    }
   ],
   "source": [
    "a = [[i for i in range(1, 4)], [i for i in range(4, 7)]]\n",
    "\n",
    "print(b := [{f\"k{i}\": i for i in x} for x in a])"
   ]
  }
 ],
 "metadata": {
  "kernelspec": {
   "display_name": "Python 3",
   "language": "python",
   "name": "python3"
  },
  "language_info": {
   "codemirror_mode": {
    "name": "ipython",
    "version": 3
   },
   "file_extension": ".py",
   "mimetype": "text/x-python",
   "name": "python",
   "nbconvert_exporter": "python",
   "pygments_lexer": "ipython3",
   "version": "3.11.0"
  }
 },
 "nbformat": 4,
 "nbformat_minor": 2
}
