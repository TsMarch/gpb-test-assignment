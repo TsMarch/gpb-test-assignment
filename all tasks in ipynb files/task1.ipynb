{
 "cells": [
  {
   "cell_type": "markdown",
   "metadata": {},
   "source": [
    "Задание 1\n",
    "имеется текстовый файл f.csv, по формату похожий на .csv с разделителем |\n",
    "\"\"\"\n",
    "lastname|name|patronymic|date_of_birth|id\n",
    "Фамилия1|Имя1|Отчество1 |21.11.1998   |312040348-3048\n",
    "Фамилия2|Имя2|Отчество2 |11.01.1972   |457865234-3431\n",
    "...\n",
    "\"\"\"\n",
    "1. Реализовать сбор уникальных записей\n",
    "2. Случается, что под одинаковым id присутствуют разные данные - собрать такие записи\n"
   ]
  },
  {
   "cell_type": "code",
   "execution_count": 1,
   "metadata": {},
   "outputs": [],
   "source": [
    "import pandas as pd"
   ]
  },
  {
   "cell_type": "code",
   "execution_count": 75,
   "metadata": {},
   "outputs": [],
   "source": [
    "f = {'lastname': ['Фамилия1', 'Фамилия2', 'Фамилия3', 'Фамилия6', 'Фамилия1'],\n",
    "     'name': ['Имя1', 'Имя2', 'Имя3', 'Имя6', 'Имя1'],\n",
    "     'patronymic': ['Отчество1', 'Отчество2', 'Отчество3', 'Отчество6', 'Отчество1'],\n",
    "     'date_of_birth': ['21.11.1998', '11.01.1972', '22.03.2000', '13.06.1998', '21.11.1998'],\n",
    "     'id': ['312040348-3048', '457865234-3431', '3852958693-5835', '312040348-3048', '312040348-3048']}\n",
    "\n",
    "df = pd.DataFrame(f)\n",
    "df.to_csv(\"f.csv\", sep='|', encoding='utf-8-sig')"
   ]
  },
  {
   "cell_type": "code",
   "execution_count": 76,
   "metadata": {},
   "outputs": [
    {
     "data": {
      "text/html": [
       "<div>\n",
       "<style scoped>\n",
       "    .dataframe tbody tr th:only-of-type {\n",
       "        vertical-align: middle;\n",
       "    }\n",
       "\n",
       "    .dataframe tbody tr th {\n",
       "        vertical-align: top;\n",
       "    }\n",
       "\n",
       "    .dataframe thead th {\n",
       "        text-align: right;\n",
       "    }\n",
       "</style>\n",
       "<table border=\"1\" class=\"dataframe\">\n",
       "  <thead>\n",
       "    <tr style=\"text-align: right;\">\n",
       "      <th></th>\n",
       "      <th>lastname</th>\n",
       "      <th>name</th>\n",
       "      <th>patronymic</th>\n",
       "      <th>date_of_birth</th>\n",
       "      <th>id</th>\n",
       "    </tr>\n",
       "  </thead>\n",
       "  <tbody>\n",
       "    <tr>\n",
       "      <th>0</th>\n",
       "      <td>Фамилия1</td>\n",
       "      <td>Имя1</td>\n",
       "      <td>Отчество1</td>\n",
       "      <td>21.11.1998</td>\n",
       "      <td>312040348-3048</td>\n",
       "    </tr>\n",
       "    <tr>\n",
       "      <th>1</th>\n",
       "      <td>Фамилия2</td>\n",
       "      <td>Имя2</td>\n",
       "      <td>Отчество2</td>\n",
       "      <td>11.01.1972</td>\n",
       "      <td>457865234-3431</td>\n",
       "    </tr>\n",
       "    <tr>\n",
       "      <th>2</th>\n",
       "      <td>Фамилия3</td>\n",
       "      <td>Имя3</td>\n",
       "      <td>Отчество3</td>\n",
       "      <td>22.03.2000</td>\n",
       "      <td>3852958693-5835</td>\n",
       "    </tr>\n",
       "    <tr>\n",
       "      <th>3</th>\n",
       "      <td>Фамилия6</td>\n",
       "      <td>Имя6</td>\n",
       "      <td>Отчество6</td>\n",
       "      <td>13.06.1998</td>\n",
       "      <td>312040348-3048</td>\n",
       "    </tr>\n",
       "    <tr>\n",
       "      <th>4</th>\n",
       "      <td>Фамилия1</td>\n",
       "      <td>Имя1</td>\n",
       "      <td>Отчество1</td>\n",
       "      <td>21.11.1998</td>\n",
       "      <td>312040348-3048</td>\n",
       "    </tr>\n",
       "  </tbody>\n",
       "</table>\n",
       "</div>"
      ],
      "text/plain": [
       "   lastname  name patronymic date_of_birth               id\n",
       "0  Фамилия1  Имя1  Отчество1    21.11.1998   312040348-3048\n",
       "1  Фамилия2  Имя2  Отчество2    11.01.1972   457865234-3431\n",
       "2  Фамилия3  Имя3  Отчество3    22.03.2000  3852958693-5835\n",
       "3  Фамилия6  Имя6  Отчество6    13.06.1998   312040348-3048\n",
       "4  Фамилия1  Имя1  Отчество1    21.11.1998   312040348-3048"
      ]
     },
     "execution_count": 76,
     "metadata": {},
     "output_type": "execute_result"
    }
   ],
   "source": [
    "df = pd.read_csv('f.csv', sep='|')\n",
    "df = df.drop(columns=['Unnamed: 0'])\n",
    "df"
   ]
  },
  {
   "cell_type": "code",
   "execution_count": 77,
   "metadata": {},
   "outputs": [
    {
     "data": {
      "text/html": [
       "<div>\n",
       "<style scoped>\n",
       "    .dataframe tbody tr th:only-of-type {\n",
       "        vertical-align: middle;\n",
       "    }\n",
       "\n",
       "    .dataframe tbody tr th {\n",
       "        vertical-align: top;\n",
       "    }\n",
       "\n",
       "    .dataframe thead th {\n",
       "        text-align: right;\n",
       "    }\n",
       "</style>\n",
       "<table border=\"1\" class=\"dataframe\">\n",
       "  <thead>\n",
       "    <tr style=\"text-align: right;\">\n",
       "      <th></th>\n",
       "      <th>lastname</th>\n",
       "      <th>name</th>\n",
       "      <th>patronymic</th>\n",
       "      <th>date_of_birth</th>\n",
       "      <th>id</th>\n",
       "    </tr>\n",
       "  </thead>\n",
       "  <tbody>\n",
       "    <tr>\n",
       "      <th>0</th>\n",
       "      <td>Фамилия1</td>\n",
       "      <td>Имя1</td>\n",
       "      <td>Отчество1</td>\n",
       "      <td>21.11.1998</td>\n",
       "      <td>312040348-3048</td>\n",
       "    </tr>\n",
       "    <tr>\n",
       "      <th>1</th>\n",
       "      <td>Фамилия2</td>\n",
       "      <td>Имя2</td>\n",
       "      <td>Отчество2</td>\n",
       "      <td>11.01.1972</td>\n",
       "      <td>457865234-3431</td>\n",
       "    </tr>\n",
       "    <tr>\n",
       "      <th>2</th>\n",
       "      <td>Фамилия3</td>\n",
       "      <td>Имя3</td>\n",
       "      <td>Отчество3</td>\n",
       "      <td>22.03.2000</td>\n",
       "      <td>3852958693-5835</td>\n",
       "    </tr>\n",
       "    <tr>\n",
       "      <th>3</th>\n",
       "      <td>Фамилия6</td>\n",
       "      <td>Имя6</td>\n",
       "      <td>Отчество6</td>\n",
       "      <td>13.06.1998</td>\n",
       "      <td>312040348-3048</td>\n",
       "    </tr>\n",
       "  </tbody>\n",
       "</table>\n",
       "</div>"
      ],
      "text/plain": [
       "   lastname  name patronymic date_of_birth               id\n",
       "0  Фамилия1  Имя1  Отчество1    21.11.1998   312040348-3048\n",
       "1  Фамилия2  Имя2  Отчество2    11.01.1972   457865234-3431\n",
       "2  Фамилия3  Имя3  Отчество3    22.03.2000  3852958693-5835\n",
       "3  Фамилия6  Имя6  Отчество6    13.06.1998   312040348-3048"
      ]
     },
     "execution_count": 77,
     "metadata": {},
     "output_type": "execute_result"
    }
   ],
   "source": [
    "# оставим только уникальные значения\n",
    "unique = df.drop_duplicates()\n",
    "unique"
   ]
  },
  {
   "cell_type": "code",
   "execution_count": 78,
   "metadata": {},
   "outputs": [
    {
     "data": {
      "text/html": [
       "<div>\n",
       "<style scoped>\n",
       "    .dataframe tbody tr th:only-of-type {\n",
       "        vertical-align: middle;\n",
       "    }\n",
       "\n",
       "    .dataframe tbody tr th {\n",
       "        vertical-align: top;\n",
       "    }\n",
       "\n",
       "    .dataframe thead th {\n",
       "        text-align: right;\n",
       "    }\n",
       "</style>\n",
       "<table border=\"1\" class=\"dataframe\">\n",
       "  <thead>\n",
       "    <tr style=\"text-align: right;\">\n",
       "      <th></th>\n",
       "      <th>lastname</th>\n",
       "      <th>name</th>\n",
       "      <th>patronymic</th>\n",
       "      <th>date_of_birth</th>\n",
       "      <th>id</th>\n",
       "    </tr>\n",
       "  </thead>\n",
       "  <tbody>\n",
       "    <tr>\n",
       "      <th>3</th>\n",
       "      <td>Фамилия6</td>\n",
       "      <td>Имя6</td>\n",
       "      <td>Отчество6</td>\n",
       "      <td>13.06.1998</td>\n",
       "      <td>312040348-3048</td>\n",
       "    </tr>\n",
       "    <tr>\n",
       "      <th>4</th>\n",
       "      <td>Фамилия1</td>\n",
       "      <td>Имя1</td>\n",
       "      <td>Отчество1</td>\n",
       "      <td>21.11.1998</td>\n",
       "      <td>312040348-3048</td>\n",
       "    </tr>\n",
       "  </tbody>\n",
       "</table>\n",
       "</div>"
      ],
      "text/plain": [
       "   lastname  name patronymic date_of_birth              id\n",
       "3  Фамилия6  Имя6  Отчество6    13.06.1998  312040348-3048\n",
       "4  Фамилия1  Имя1  Отчество1    21.11.1998  312040348-3048"
      ]
     },
     "execution_count": 78,
     "metadata": {},
     "output_type": "execute_result"
    }
   ],
   "source": [
    "# соберем разные данные под одинаковым id\n",
    "same_id_first = df[df.duplicated(['id'])].drop_duplicates()\n",
    "\n",
    "# способ через groupby и filter\n",
    "same_id_second = df.groupby('id').filter(lambda x: len(x) > 1).drop_duplicates(keep=\"first\")\n",
    "\n",
    "same_id_first"
   ]
  },
  {
   "cell_type": "code",
   "execution_count": 79,
   "metadata": {},
   "outputs": [
    {
     "data": {
      "text/html": [
       "<div>\n",
       "<style scoped>\n",
       "    .dataframe tbody tr th:only-of-type {\n",
       "        vertical-align: middle;\n",
       "    }\n",
       "\n",
       "    .dataframe tbody tr th {\n",
       "        vertical-align: top;\n",
       "    }\n",
       "\n",
       "    .dataframe thead th {\n",
       "        text-align: right;\n",
       "    }\n",
       "</style>\n",
       "<table border=\"1\" class=\"dataframe\">\n",
       "  <thead>\n",
       "    <tr style=\"text-align: right;\">\n",
       "      <th></th>\n",
       "      <th>lastname</th>\n",
       "      <th>name</th>\n",
       "      <th>patronymic</th>\n",
       "      <th>date_of_birth</th>\n",
       "      <th>id</th>\n",
       "    </tr>\n",
       "  </thead>\n",
       "  <tbody>\n",
       "    <tr>\n",
       "      <th>0</th>\n",
       "      <td>Фамилия1</td>\n",
       "      <td>Имя1</td>\n",
       "      <td>Отчество1</td>\n",
       "      <td>21.11.1998</td>\n",
       "      <td>312040348-3048</td>\n",
       "    </tr>\n",
       "    <tr>\n",
       "      <th>3</th>\n",
       "      <td>Фамилия6</td>\n",
       "      <td>Имя6</td>\n",
       "      <td>Отчество6</td>\n",
       "      <td>13.06.1998</td>\n",
       "      <td>312040348-3048</td>\n",
       "    </tr>\n",
       "  </tbody>\n",
       "</table>\n",
       "</div>"
      ],
      "text/plain": [
       "   lastname  name patronymic date_of_birth              id\n",
       "0  Фамилия1  Имя1  Отчество1    21.11.1998  312040348-3048\n",
       "3  Фамилия6  Имя6  Отчество6    13.06.1998  312040348-3048"
      ]
     },
     "execution_count": 79,
     "metadata": {},
     "output_type": "execute_result"
    }
   ],
   "source": [
    "same_id_second"
   ]
  }
 ],
 "metadata": {
  "kernelspec": {
   "display_name": "Python 3",
   "language": "python",
   "name": "python3"
  },
  "language_info": {
   "codemirror_mode": {
    "name": "ipython",
    "version": 3
   },
   "file_extension": ".py",
   "mimetype": "text/x-python",
   "name": "python",
   "nbconvert_exporter": "python",
   "pygments_lexer": "ipython3",
   "version": "3.11.0"
  }
 },
 "nbformat": 4,
 "nbformat_minor": 2
}
