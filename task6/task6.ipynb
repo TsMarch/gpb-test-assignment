{
 "cells": [
  {
   "cell_type": "code",
   "execution_count": 73,
   "metadata": {},
   "outputs": [],
   "source": [
    "from pydantic import BaseModel, field_validator, ValidationError\n",
    "import datetime\n",
    "import pandas as pd\n",
    "import itertools"
   ]
  },
  {
   "cell_type": "markdown",
   "metadata": {},
   "source": [
    "2. Валидировать входящий JSON используя модель pydantic (из ТЗ известно что поле \"key1\" имеет тип int, \"key2\"(datetime), \"key3\"(str))"
   ]
  },
  {
   "cell_type": "code",
   "execution_count": 74,
   "metadata": {},
   "outputs": [],
   "source": [
    "a = {\n",
    "    \"Columns\": [1, datetime.datetime(2024, 5, 17), 'key3'],\n",
    "    \"Description\": ['Банковские API каких-то важных документов'],\n",
    "    \"RowCount\": 2,\n",
    "    \"Rows\":[\n",
    "        [\"value1\", \"value2\", \"value3\"],\n",
    "        [\"value4\", \"value5\", \"value6\"]\n",
    "    ]\n",
    "}"
   ]
  },
  {
   "cell_type": "code",
   "execution_count": 75,
   "metadata": {},
   "outputs": [],
   "source": [
    "class check(BaseModel):\n",
    "    Columns: list\n",
    "    Description: list\n",
    "    RowCount: int\n",
    "    Rows: list[list]\n",
    "\n",
    "    @field_validator('Columns')\n",
    "    def elements_in_columns(cls, columns):\n",
    "        if len(columns) < 3:\n",
    "            raise ValueError('List must contain at least three elements')\n",
    "\n",
    "        if not isinstance(columns[0], int):\n",
    "            raise ValueError('Первый элемент должен быть типа int')\n",
    "        \n",
    "        if not isinstance(columns[1], datetime.datetime):\n",
    "            raise ValueError('Второй элемент должен быть типа datetime')\n",
    "        \n",
    "        if not isinstance(columns[2], str):\n",
    "            raise ValueError('Третий элемент должен быть типа str')\n",
    "\n",
    "        return columns\n"
   ]
  },
  {
   "cell_type": "code",
   "execution_count": 76,
   "metadata": {},
   "outputs": [
    {
     "name": "stdout",
     "output_type": "stream",
     "text": [
      "{'Columns': [1, datetime.datetime(2024, 5, 17, 0, 0), 'key3'], 'Description': ['Банковские API каких-то важных документов'], 'RowCount': 2, 'Rows': [['value1', 'value2', 'value3'], ['value4', 'value5', 'value6']]}\n"
     ]
    }
   ],
   "source": [
    "try:\n",
    "    candidate = check(**a)\n",
    "    print(candidate.model_dump())\n",
    "except ValidationError as err:\n",
    "    print('Error validating candidate info: ', err)"
   ]
  },
  {
   "cell_type": "markdown",
   "metadata": {},
   "source": [
    "3. Представить данные \"Columns\" и \"Rows\" в виде плоского csv-подобного pandas.DataFrame "
   ]
  },
  {
   "cell_type": "code",
   "execution_count": 77,
   "metadata": {},
   "outputs": [],
   "source": [
    "df = pd.DataFrame()\n",
    "l = []\n",
    "for i in a:\n",
    "    match i:\n",
    "        case \"Rows\":\n",
    "            df = pd.DataFrame(a[i], columns=l)\n",
    "        case \"Columns\":\n",
    "            l.append(a[i])\n",
    "            l = list(itertools.chain(*l))"
   ]
  },
  {
   "cell_type": "code",
   "execution_count": 78,
   "metadata": {},
   "outputs": [
    {
     "data": {
      "text/html": [
       "<div>\n",
       "<style scoped>\n",
       "    .dataframe tbody tr th:only-of-type {\n",
       "        vertical-align: middle;\n",
       "    }\n",
       "\n",
       "    .dataframe tbody tr th {\n",
       "        vertical-align: top;\n",
       "    }\n",
       "\n",
       "    .dataframe thead th {\n",
       "        text-align: right;\n",
       "    }\n",
       "</style>\n",
       "<table border=\"1\" class=\"dataframe\">\n",
       "  <thead>\n",
       "    <tr style=\"text-align: right;\">\n",
       "      <th></th>\n",
       "      <th>1</th>\n",
       "      <th>2024-05-17 00:00:00</th>\n",
       "      <th>key3</th>\n",
       "    </tr>\n",
       "  </thead>\n",
       "  <tbody>\n",
       "    <tr>\n",
       "      <th>0</th>\n",
       "      <td>value1</td>\n",
       "      <td>value2</td>\n",
       "      <td>value3</td>\n",
       "    </tr>\n",
       "    <tr>\n",
       "      <th>1</th>\n",
       "      <td>value4</td>\n",
       "      <td>value5</td>\n",
       "      <td>value6</td>\n",
       "    </tr>\n",
       "  </tbody>\n",
       "</table>\n",
       "</div>"
      ],
      "text/plain": [
       "        1 2024-05-17 00:00:00    key3\n",
       "0  value1              value2  value3\n",
       "1  value4              value5  value6"
      ]
     },
     "execution_count": 78,
     "metadata": {},
     "output_type": "execute_result"
    }
   ],
   "source": [
    "df"
   ]
  },
  {
   "cell_type": "markdown",
   "metadata": {},
   "source": [
    "4. В полученном DataFrame произвести переименование полей по след. маппингу key1\" -> \"document_id\", \"key2\" -> \"document_dt\", \"key3\" -> \"document_name\""
   ]
  },
  {
   "cell_type": "code",
   "execution_count": 79,
   "metadata": {},
   "outputs": [],
   "source": [
    "df = df.rename(columns={df.columns[0]: \"document_id\", df.columns[1]: \"document_dt\", df.columns[2]: \"document_name\"})"
   ]
  },
  {
   "cell_type": "code",
   "execution_count": 80,
   "metadata": {},
   "outputs": [],
   "source": [
    "df['load_dt'] =[datetime.datetime.now() for i in df['document_id']]"
   ]
  },
  {
   "cell_type": "code",
   "execution_count": 81,
   "metadata": {},
   "outputs": [
    {
     "data": {
      "text/html": [
       "<div>\n",
       "<style scoped>\n",
       "    .dataframe tbody tr th:only-of-type {\n",
       "        vertical-align: middle;\n",
       "    }\n",
       "\n",
       "    .dataframe tbody tr th {\n",
       "        vertical-align: top;\n",
       "    }\n",
       "\n",
       "    .dataframe thead th {\n",
       "        text-align: right;\n",
       "    }\n",
       "</style>\n",
       "<table border=\"1\" class=\"dataframe\">\n",
       "  <thead>\n",
       "    <tr style=\"text-align: right;\">\n",
       "      <th></th>\n",
       "      <th>document_id</th>\n",
       "      <th>document_dt</th>\n",
       "      <th>document_name</th>\n",
       "      <th>load_dt</th>\n",
       "    </tr>\n",
       "  </thead>\n",
       "  <tbody>\n",
       "    <tr>\n",
       "      <th>0</th>\n",
       "      <td>value1</td>\n",
       "      <td>value2</td>\n",
       "      <td>value3</td>\n",
       "      <td>2024-05-17 14:36:16.822248</td>\n",
       "    </tr>\n",
       "    <tr>\n",
       "      <th>1</th>\n",
       "      <td>value4</td>\n",
       "      <td>value5</td>\n",
       "      <td>value6</td>\n",
       "      <td>2024-05-17 14:36:16.822253</td>\n",
       "    </tr>\n",
       "  </tbody>\n",
       "</table>\n",
       "</div>"
      ],
      "text/plain": [
       "  document_id document_dt document_name                    load_dt\n",
       "0      value1      value2        value3 2024-05-17 14:36:16.822248\n",
       "1      value4      value5        value6 2024-05-17 14:36:16.822253"
      ]
     },
     "execution_count": 81,
     "metadata": {},
     "output_type": "execute_result"
    }
   ],
   "source": [
    "df"
   ]
  }
 ],
 "metadata": {
  "kernelspec": {
   "display_name": "Python 3",
   "language": "python",
   "name": "python3"
  },
  "language_info": {
   "codemirror_mode": {
    "name": "ipython",
    "version": 3
   },
   "file_extension": ".py",
   "mimetype": "text/x-python",
   "name": "python",
   "nbconvert_exporter": "python",
   "pygments_lexer": "ipython3",
   "version": "3.11.0"
  }
 },
 "nbformat": 4,
 "nbformat_minor": 2
}
